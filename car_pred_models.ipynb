{
 "cells": [
  {
   "cell_type": "code",
   "execution_count": 1,
   "metadata": {},
   "outputs": [],
   "source": [
    "import pandas as pd\n",
    "import numpy as np\n",
    "import matplotlib.pyplot as plt\n",
    "import seaborn as sns"
   ]
  },
  {
   "cell_type": "code",
   "execution_count": 2,
   "metadata": {},
   "outputs": [],
   "source": [
    "#display everything \n",
    "pd.set_option('display.max_columns', None)"
   ]
  },
  {
   "cell_type": "code",
   "execution_count": 3,
   "metadata": {},
   "outputs": [],
   "source": [
    "train = pd.read_csv('train.csv', encoding='utf-8')\n",
    "test = pd.read_csv('test.csv', encoding='utf-8')\n",
    "submission = pd.read_csv('sample_submission.csv')"
   ]
  },
  {
   "cell_type": "code",
   "execution_count": 4,
   "metadata": {},
   "outputs": [
    {
     "data": {
      "text/plain": [
       "((54273, 13), (36183, 12), (36183, 2))"
      ]
     },
     "execution_count": 4,
     "metadata": {},
     "output_type": "execute_result"
    }
   ],
   "source": [
    "train.shape, test.shape, submission.shape"
   ]
  },
  {
   "cell_type": "code",
   "execution_count": 5,
   "metadata": {},
   "outputs": [
    {
     "data": {
      "text/plain": [
       "id              0\n",
       "brand           0\n",
       "model           0\n",
       "model_year      0\n",
       "milage          0\n",
       "fuel_type       0\n",
       "engine          0\n",
       "transmission    0\n",
       "ext_col         0\n",
       "int_col         0\n",
       "accident        0\n",
       "clean_title     0\n",
       "price           0\n",
       "dtype: int64"
      ]
     },
     "metadata": {},
     "output_type": "display_data"
    },
    {
     "data": {
      "text/plain": [
       "id              0\n",
       "brand           0\n",
       "model           0\n",
       "model_year      0\n",
       "milage          0\n",
       "fuel_type       0\n",
       "engine          0\n",
       "transmission    0\n",
       "ext_col         0\n",
       "int_col         0\n",
       "accident        0\n",
       "clean_title     0\n",
       "dtype: int64"
      ]
     },
     "metadata": {},
     "output_type": "display_data"
    }
   ],
   "source": [
    "display(train.isna().sum())\n",
    "display(test.isna().sum())"
   ]
  },
  {
   "cell_type": "markdown",
   "metadata": {},
   "source": [
    "From the above, we can see that there are no missing values in both the training and testing datasets"
   ]
  },
  {
   "cell_type": "markdown",
   "metadata": {},
   "source": [
    "### Working on the engine variable"
   ]
  },
  {
   "cell_type": "code",
   "execution_count": 6,
   "metadata": {},
   "outputs": [],
   "source": [
    "import re\n",
    "def extract_horsepower(engine_description):\n",
    "  match = re.search(r\"(\\d+)\\.0HP\", engine_description)\n",
    "  if match:\n",
    "    return float(match.group(1))  \n",
    "  else:\n",
    "    return None  # Handle missing values\n",
    "\n",
    "train[\"horsepower\"] = train[\"engine\"].apply(extract_horsepower)\n",
    "test[\"horsepower\"] = test[\"engine\"].apply(extract_horsepower)\n"
   ]
  },
  {
   "cell_type": "code",
   "execution_count": 7,
   "metadata": {},
   "outputs": [],
   "source": [
    "import re\n",
    "\n",
    "def extract_displacement(engine_description):\n",
    "    match = re.search(r\"(\\d+\\.\\d+L)\", engine_description)\n",
    "    if match:\n",
    "        # Extract the numeric part and convert it to a float\n",
    "        return float(match.group(1).replace('L', ''))\n",
    "    else:\n",
    "        return None  # Handle missing values\n",
    "\n",
    "# Assuming 'train' is your DataFrame and 'engine' is the column containing engine descriptions\n",
    "train[\"displacement_value\"] = train[\"engine\"].apply(extract_displacement)\n",
    "test[\"displacement_value\"] = test[\"engine\"].apply(extract_displacement)"
   ]
  },
  {
   "cell_type": "code",
   "execution_count": 8,
   "metadata": {},
   "outputs": [],
   "source": [
    "\n",
    "def extract_engine_type(engine_description):\n",
    "    # Regex to match engine type after displacement and before fuel type\n",
    "    match = re.search(r\"\\b\\d\\.\\dL\\s(.*?Engine)\\b\", engine_description)\n",
    "    if match:\n",
    "        return match.group(1)\n",
    "    else:\n",
    "        return None  # Handle missing values\n",
    "train[\"engine_type\"] = train[\"engine\"].apply(extract_engine_type)\n",
    "test[\"engine_type\"] = test[\"engine\"].apply(extract_engine_type)"
   ]
  },
  {
   "cell_type": "code",
   "execution_count": 9,
   "metadata": {},
   "outputs": [],
   "source": [
    "\n",
    "def extract_fuel_type(engine_description):\n",
    "    # Regex to match the fuel type at the end of the description\n",
    "    match = re.search(r\"(Gasoline Fuel|Diesel Fuel|Electric Fuel System|Hybrid|Gasoline/Mild Electric Hybrid|Flex Fuel Capability)\", engine_description)\n",
    "    if match:\n",
    "        return match.group(1)\n",
    "    else:\n",
    "        return None  # Handle missing values\n",
    "train[\"fuel_type\"] = train[\"engine\"].apply(extract_fuel_type)\n",
    "test[\"fuel_type\"] = test[\"engine\"].apply(extract_fuel_type)"
   ]
  },
  {
   "cell_type": "code",
   "execution_count": 10,
   "metadata": {},
   "outputs": [],
   "source": [
    "# Grouping the car brands\n",
    "brand_categories = {\n",
    "    'performance_sports': [\n",
    "        'Chevrolet', 'BMW', 'Porsche', 'Lamborghini',\n",
    "        'Pontiac', 'Lotus'\n",
    "    ],\n",
    "    \n",
    "    'luxury_luxury_EV': [\n",
    "        'Mercedes-Benz', 'Audi', 'Maserati', 'Cadillac',\n",
    "        'Volvo', 'Tesla', 'Jaguar', 'Rolls-Royce', 'Aston',\n",
    "        'Ferrari', 'Bentley', 'Acura', 'Lexus', 'Lincoln',\n",
    "        'Hummer', 'Genesis', 'Land', 'Buick', 'INFINITI',\n",
    "        'McLaren', 'Alfa', 'Lucid', 'Maybach', 'Bugatti'\n",
    "    ],\n",
    "\n",
    "    'mid_range': [\n",
    "        'Mitsubishi', 'Ford', 'Nissan', 'Toyota', 'Dodge',\n",
    "        'Volkswagen', 'Mazda', 'Chrysler', 'Rivian', 'GMC'\n",
    "    ],\n",
    "\n",
    "    'affordable': [\n",
    "        'Honda', 'Hyundai', 'Subaru', 'Kia',\n",
    "        'Scion', 'Saturn', 'Mercury',\n",
    "        'FIAT', 'Plymouth', 'Suzuki'\n",
    "    ],\n",
    "\n",
    "    'offroad': [\n",
    "        'Jeep', 'RAM', 'MINI'\n",
    "    ]\n",
    "}\n",
    "\n",
    "def assign_brand_group(brand):\n",
    "    for group_name, brands in brand_categories.items():\n",
    "        if brand in brands:\n",
    "            return group_name\n",
    "    return \"Others\"  # Assign to \"Others\" if not found in any defined groups\n",
    "\n",
    "train[\"brand_group\"] = train[\"brand\"].apply(assign_brand_group)\n",
    "test[\"brand_group\"] = test[\"brand\"].apply(assign_brand_group)\n"
   ]
  },
  {
   "cell_type": "markdown",
   "metadata": {},
   "source": [
    "### Handling transmission variable"
   ]
  },
  {
   "cell_type": "code",
   "execution_count": 11,
   "metadata": {},
   "outputs": [],
   "source": [
    "# Define the mapping for each category\n",
    "transmission_mapping = {\n",
    "    'automatic': ['A/T', 'Automatic', 'Automatic CVT', 'Transmission w/Dual Shift Mode', 'Transmission Overdrive Switch',\n",
    "                  'Electronically Controlled Automatic', 'with Overdrive', 'with Auto-Shift', 'DCT Automatic'],\n",
    "    'manual': ['M/T', 'Manual'],\n",
    "    'cvt': ['CVT Transmission', 'CVT-F', 'Variable'],\n",
    "    'dct': ['DCT Automatic'],\n",
    "    'other': ['SCHEDULED FOR OR IN PRODUCTION', '–', 'F']\n",
    "}\n",
    "\n",
    "# Function to categorize the transmission\n",
    "def categorize_transmission(transmission):\n",
    "    transmission = transmission.lower()\n",
    "    if any(keyword.lower() in transmission for keyword in transmission_mapping['automatic']):\n",
    "        return 'automatic'\n",
    "    elif any(keyword.lower() in transmission for keyword in transmission_mapping['manual']):\n",
    "        return 'manual'\n",
    "    elif any(keyword.lower() in transmission for keyword in transmission_mapping['cvt']):\n",
    "        return 'cvt'\n",
    "    elif any(keyword.lower() in transmission for keyword in transmission_mapping['dct']):\n",
    "        return 'dct'\n",
    "    else:\n",
    "        return 'other'\n",
    "\n",
    "# Apply the categorization\n",
    "train['transmission_category'] = train['transmission'].apply(categorize_transmission)\n",
    "test['transmission_category'] = test['transmission'].apply(categorize_transmission)"
   ]
  },
  {
   "cell_type": "code",
   "execution_count": 12,
   "metadata": {},
   "outputs": [],
   "source": [
    "# Create boolean features for special characteristics on the training set  \n",
    "train['dual_shift_mode'] = train['transmission'].str.contains('Dual Shift Mode', case=False, na=False).astype(int)\n",
    "train['overdrive'] = train['transmission'].str.contains('Overdrive', case=False, na=False).astype(int)\n",
    "train['auto_shift'] = train['transmission'].str.contains('Auto-Shift', case=False, na=False).astype(int)\n",
    "\n",
    "# Create boolean features for special characteristics on the testing set\n",
    "test['dual_shift_mode'] = test['transmission'].str.contains('Dual Shift Mode', case=False, na=False).astype(int)\n",
    "test['overdrive'] = test['transmission'].str.contains('Overdrive', case=False, na=False).astype(int)\n",
    "test['auto_shift'] = test['transmission'].str.contains('Auto-Shift', case=False, na=False).astype(int)\n"
   ]
  },
  {
   "cell_type": "code",
   "execution_count": 13,
   "metadata": {},
   "outputs": [
    {
     "name": "stdout",
     "output_type": "stream",
     "text": [
      "<class 'pandas.core.frame.DataFrame'>\n",
      "RangeIndex: 54273 entries, 0 to 54272\n",
      "Data columns (total 21 columns):\n",
      " #   Column                 Non-Null Count  Dtype  \n",
      "---  ------                 --------------  -----  \n",
      " 0   id                     54273 non-null  int64  \n",
      " 1   brand                  54273 non-null  object \n",
      " 2   model                  54273 non-null  object \n",
      " 3   model_year             54273 non-null  int64  \n",
      " 4   milage                 54273 non-null  int64  \n",
      " 5   fuel_type              50120 non-null  object \n",
      " 6   engine                 54273 non-null  object \n",
      " 7   transmission           54273 non-null  object \n",
      " 8   ext_col                54273 non-null  object \n",
      " 9   int_col                54273 non-null  object \n",
      " 10  accident               54273 non-null  object \n",
      " 11  clean_title            54273 non-null  object \n",
      " 12  price                  54273 non-null  int64  \n",
      " 13  horsepower             50216 non-null  float64\n",
      " 14  displacement_value     53667 non-null  float64\n",
      " 15  engine_type            50065 non-null  object \n",
      " 16  brand_group            54273 non-null  object \n",
      " 17  transmission_category  54273 non-null  object \n",
      " 18  dual_shift_mode        54273 non-null  int32  \n",
      " 19  overdrive              54273 non-null  int32  \n",
      " 20  auto_shift             54273 non-null  int32  \n",
      "dtypes: float64(2), int32(3), int64(4), object(12)\n",
      "memory usage: 8.1+ MB\n"
     ]
    }
   ],
   "source": [
    "train.info()"
   ]
  },
  {
   "cell_type": "code",
   "execution_count": 14,
   "metadata": {},
   "outputs": [
    {
     "name": "stdout",
     "output_type": "stream",
     "text": [
      "<class 'pandas.core.frame.DataFrame'>\n",
      "RangeIndex: 36183 entries, 0 to 36182\n",
      "Data columns (total 20 columns):\n",
      " #   Column                 Non-Null Count  Dtype  \n",
      "---  ------                 --------------  -----  \n",
      " 0   id                     36183 non-null  int64  \n",
      " 1   brand                  36183 non-null  object \n",
      " 2   model                  36183 non-null  object \n",
      " 3   model_year             36183 non-null  int64  \n",
      " 4   milage                 36183 non-null  int64  \n",
      " 5   fuel_type              33485 non-null  object \n",
      " 6   engine                 36183 non-null  object \n",
      " 7   transmission           36183 non-null  object \n",
      " 8   ext_col                36183 non-null  object \n",
      " 9   int_col                36183 non-null  object \n",
      " 10  accident               36183 non-null  object \n",
      " 11  clean_title            36183 non-null  object \n",
      " 12  horsepower             33577 non-null  float64\n",
      " 13  displacement_value     35778 non-null  float64\n",
      " 14  engine_type            33451 non-null  object \n",
      " 15  brand_group            36183 non-null  object \n",
      " 16  transmission_category  36183 non-null  object \n",
      " 17  dual_shift_mode        36183 non-null  int32  \n",
      " 18  overdrive              36183 non-null  int32  \n",
      " 19  auto_shift             36183 non-null  int32  \n",
      "dtypes: float64(2), int32(3), int64(3), object(12)\n",
      "memory usage: 5.1+ MB\n"
     ]
    }
   ],
   "source": [
    "test.info()"
   ]
  },
  {
   "cell_type": "code",
   "execution_count": 15,
   "metadata": {},
   "outputs": [],
   "source": [
    "cols_drop = ['brand', 'model', 'engine','clean_title', 'id', 'transmission']"
   ]
  },
  {
   "cell_type": "code",
   "execution_count": 16,
   "metadata": {},
   "outputs": [],
   "source": [
    "train.drop(columns=cols_drop, axis=1, inplace=True)\n",
    "test.drop(columns=cols_drop, axis=1, inplace=True)"
   ]
  },
  {
   "cell_type": "code",
   "execution_count": 17,
   "metadata": {},
   "outputs": [
    {
     "name": "stdout",
     "output_type": "stream",
     "text": [
      "<class 'pandas.core.frame.DataFrame'>\n",
      "RangeIndex: 54273 entries, 0 to 54272\n",
      "Data columns (total 15 columns):\n",
      " #   Column                 Non-Null Count  Dtype  \n",
      "---  ------                 --------------  -----  \n",
      " 0   model_year             54273 non-null  int64  \n",
      " 1   milage                 54273 non-null  int64  \n",
      " 2   fuel_type              50120 non-null  object \n",
      " 3   ext_col                54273 non-null  object \n",
      " 4   int_col                54273 non-null  object \n",
      " 5   accident               54273 non-null  object \n",
      " 6   price                  54273 non-null  int64  \n",
      " 7   horsepower             50216 non-null  float64\n",
      " 8   displacement_value     53667 non-null  float64\n",
      " 9   engine_type            50065 non-null  object \n",
      " 10  brand_group            54273 non-null  object \n",
      " 11  transmission_category  54273 non-null  object \n",
      " 12  dual_shift_mode        54273 non-null  int32  \n",
      " 13  overdrive              54273 non-null  int32  \n",
      " 14  auto_shift             54273 non-null  int32  \n",
      "dtypes: float64(2), int32(3), int64(3), object(7)\n",
      "memory usage: 5.6+ MB\n"
     ]
    },
    {
     "data": {
      "text/plain": [
       "None"
      ]
     },
     "metadata": {},
     "output_type": "display_data"
    },
    {
     "name": "stdout",
     "output_type": "stream",
     "text": [
      "<class 'pandas.core.frame.DataFrame'>\n",
      "RangeIndex: 36183 entries, 0 to 36182\n",
      "Data columns (total 14 columns):\n",
      " #   Column                 Non-Null Count  Dtype  \n",
      "---  ------                 --------------  -----  \n",
      " 0   model_year             36183 non-null  int64  \n",
      " 1   milage                 36183 non-null  int64  \n",
      " 2   fuel_type              33485 non-null  object \n",
      " 3   ext_col                36183 non-null  object \n",
      " 4   int_col                36183 non-null  object \n",
      " 5   accident               36183 non-null  object \n",
      " 6   horsepower             33577 non-null  float64\n",
      " 7   displacement_value     35778 non-null  float64\n",
      " 8   engine_type            33451 non-null  object \n",
      " 9   brand_group            36183 non-null  object \n",
      " 10  transmission_category  36183 non-null  object \n",
      " 11  dual_shift_mode        36183 non-null  int32  \n",
      " 12  overdrive              36183 non-null  int32  \n",
      " 13  auto_shift             36183 non-null  int32  \n",
      "dtypes: float64(2), int32(3), int64(2), object(7)\n",
      "memory usage: 3.5+ MB\n"
     ]
    },
    {
     "data": {
      "text/plain": [
       "None"
      ]
     },
     "metadata": {},
     "output_type": "display_data"
    }
   ],
   "source": [
    "display(train.info())\n",
    "display(test.info())"
   ]
  },
  {
   "cell_type": "markdown",
   "metadata": {},
   "source": [
    "### Imputing the missing values in both the test and train sets "
   ]
  },
  {
   "cell_type": "code",
   "execution_count": 18,
   "metadata": {},
   "outputs": [],
   "source": [
    "from sklearn.impute import KNNImputer\n",
    "\n",
    "# Imputing categorical variables \n",
    "train['fuel_type'] = train['fuel_type'].ffill().bfill()\n",
    "test['fuel_type'] =  test['fuel_type'].ffill().bfill()\n",
    "train['engine_type'] = train['engine_type'].bfill().ffill()\n",
    "test['engine_type'] = test['engine_type'].bfill().ffill()\n"
   ]
  },
  {
   "cell_type": "code",
   "execution_count": 19,
   "metadata": {},
   "outputs": [],
   "source": [
    "# imputing the numerical variables \n",
    "train['horsepower'] = train['horsepower'].fillna(train['horsepower'].mean())\n",
    "test['horsepower'] = test['horsepower'].fillna(test['horsepower'].median())\n",
    "train['displacement_value'] = train['displacement_value'].fillna(train['displacement_value'].mean())\n",
    "test['displacement_value'] = test['displacement_value'].fillna(test['displacement_value'].median())"
   ]
  },
  {
   "cell_type": "markdown",
   "metadata": {},
   "source": [
    "### Encoding the categorical variables "
   ]
  },
  {
   "cell_type": "code",
   "execution_count": 20,
   "metadata": {},
   "outputs": [],
   "source": [
    "## Encoding training data\n",
    "from sklearn.preprocessing import LabelEncoder\n",
    "Le_fuel = LabelEncoder()\n",
    "Le_ext = LabelEncoder()\n",
    "Le_int = LabelEncoder()\n",
    "Le_acc = LabelEncoder()\n",
    "Le_engine = LabelEncoder()\n",
    "Le_brand = LabelEncoder()\n",
    "Le_trans_cat = LabelEncoder()\n",
    "\n",
    "train['ext_col'] = Le_ext.fit_transform(train['ext_col'])\n",
    "train['int_col'] = Le_int.fit_transform(train['int_col'])\n",
    "train['accident'] = Le_acc.fit_transform(train['accident'])\n",
    "train['engine_type'] = Le_engine.fit_transform(train['engine_type'])\n",
    "train['brand_group'] = Le_brand.fit_transform(train['brand_group'])\n",
    "train['transmission_category'] = Le_trans_cat.fit_transform (train['transmission_category'])\n",
    "train['fuel_type'] = Le_fuel.fit_transform(train['fuel_type'])"
   ]
  },
  {
   "cell_type": "code",
   "execution_count": 21,
   "metadata": {},
   "outputs": [],
   "source": [
    "#Encoding testing data\n",
    "\n",
    "test['ext_col'] = Le_ext.fit_transform(test['ext_col'])\n",
    "test['int_col'] = Le_int.fit_transform(test['int_col'])\n",
    "test['accident'] = Le_acc.fit_transform(test['accident'])\n",
    "test['engine_type'] = Le_engine.fit_transform(test['engine_type'])\n",
    "test['brand_group'] = Le_brand.fit_transform(test['brand_group'])\n",
    "test['transmission_category'] = Le_trans_cat.fit_transform(test['transmission_category'])\n",
    "test['fuel_type'] = Le_fuel.fit_transform(test['fuel_type'])"
   ]
  },
  {
   "cell_type": "code",
   "execution_count": 22,
   "metadata": {},
   "outputs": [],
   "source": [
    "from sklearn.model_selection import train_test_split\n",
    "from sklearn.preprocessing import MinMaxScaler\n",
    "from sklearn.metrics import mean_squared_error\n",
    "from catboost import CatBoostRegressor"
   ]
  },
  {
   "cell_type": "code",
   "execution_count": 23,
   "metadata": {},
   "outputs": [],
   "source": [
    "X = train.drop(columns='price', axis=1, inplace=False) \n",
    "y = train['price']"
   ]
  },
  {
   "cell_type": "code",
   "execution_count": 24,
   "metadata": {},
   "outputs": [],
   "source": [
    "X_train, X_test, y_train, y_test = train_test_split(X, y,test_size = 0.2, random_state=42 )\n"
   ]
  },
  {
   "cell_type": "code",
   "execution_count": 25,
   "metadata": {},
   "outputs": [],
   "source": [
    "\n",
    "#Scaling all columns using MinMaxScaler\n",
    "scaler = MinMaxScaler()\n",
    "scaler.fit(X_train)\n",
    "\n",
    "#transforming the testing adn training data with the scaler\n",
    "X_train_scaled = scaler.fit_transform(X_train)\n",
    "X_test_scaled = scaler.fit_transform(X_test)\n",
    "\n",
    "#converting the scaled arrays to dataframes\n",
    "X_train_scaled = pd.DataFrame(X_train_scaled, columns = X_train.columns)\n",
    "X_test_scaled = pd.DataFrame(X_test_scaled, columns = X_test.columns)"
   ]
  },
  {
   "cell_type": "code",
   "execution_count": 42,
   "metadata": {},
   "outputs": [],
   "source": [
    "from sklearn.tree import DecisionTreeRegressor\n",
    "DT = DecisionTreeRegressor(random_state=42)"
   ]
  },
  {
   "cell_type": "code",
   "execution_count": 43,
   "metadata": {},
   "outputs": [
    {
     "name": "stdout",
     "output_type": "stream",
     "text": [
      "Decision Tree Regressor RMSE: 142614.59283761005\n"
     ]
    },
    {
     "name": "stderr",
     "output_type": "stream",
     "text": [
      "c:\\Users\\PC\\anaconda3-2\\Lib\\site-packages\\sklearn\\metrics\\_regression.py:492: FutureWarning: 'squared' is deprecated in version 1.4 and will be removed in 1.6. To calculate the root mean squared error, use the function'root_mean_squared_error'.\n",
      "  warnings.warn(\n"
     ]
    }
   ],
   "source": [
    "\n",
    "# Train the model\n",
    "DT.fit(X_train_scaled, y_train)\n",
    "\n",
    "# Make predictions on the test set\n",
    "predictions = DT.predict(X_test_scaled)\n",
    "\n",
    "# Calculate RMSE\n",
    "rmse = mean_squared_error(y_test, predictions, squared=False)\n",
    "print(f\"Decision Tree Regressor RMSE: {rmse}\")"
   ]
  },
  {
   "cell_type": "code",
   "execution_count": 40,
   "metadata": {},
   "outputs": [
    {
     "data": {
      "text/html": [
       "<div>\n",
       "<style scoped>\n",
       "    .dataframe tbody tr th:only-of-type {\n",
       "        vertical-align: middle;\n",
       "    }\n",
       "\n",
       "    .dataframe tbody tr th {\n",
       "        vertical-align: top;\n",
       "    }\n",
       "\n",
       "    .dataframe thead th {\n",
       "        text-align: right;\n",
       "    }\n",
       "</style>\n",
       "<table border=\"1\" class=\"dataframe\">\n",
       "  <thead>\n",
       "    <tr style=\"text-align: right;\">\n",
       "      <th></th>\n",
       "      <th>id</th>\n",
       "      <th>price</th>\n",
       "    </tr>\n",
       "  </thead>\n",
       "  <tbody>\n",
       "    <tr>\n",
       "      <th>0</th>\n",
       "      <td>54273</td>\n",
       "      <td>256577.493145</td>\n",
       "    </tr>\n",
       "    <tr>\n",
       "      <th>1</th>\n",
       "      <td>54274</td>\n",
       "      <td>256577.493145</td>\n",
       "    </tr>\n",
       "    <tr>\n",
       "      <th>2</th>\n",
       "      <td>54275</td>\n",
       "      <td>256577.493145</td>\n",
       "    </tr>\n",
       "    <tr>\n",
       "      <th>3</th>\n",
       "      <td>54276</td>\n",
       "      <td>194143.479101</td>\n",
       "    </tr>\n",
       "    <tr>\n",
       "      <th>4</th>\n",
       "      <td>54277</td>\n",
       "      <td>205767.488287</td>\n",
       "    </tr>\n",
       "  </tbody>\n",
       "</table>\n",
       "</div>"
      ],
      "text/plain": [
       "      id          price\n",
       "0  54273  256577.493145\n",
       "1  54274  256577.493145\n",
       "2  54275  256577.493145\n",
       "3  54276  194143.479101\n",
       "4  54277  205767.488287"
      ]
     },
     "execution_count": 40,
     "metadata": {},
     "output_type": "execute_result"
    }
   ],
   "source": [
    "# Create submission file\n",
    "#sub1 = pd.DataFrame({'id': submission['id'], 'price': boost_predictions})\n",
    "\n",
    "# Preview sub file\n",
    "#sub1.head()"
   ]
  },
  {
   "cell_type": "code",
   "execution_count": 41,
   "metadata": {},
   "outputs": [],
   "source": [
    "# Create a csv file\n",
    "#sub1.to_csv('submission8.csv', index = False)"
   ]
  }
 ],
 "metadata": {
  "kernelspec": {
   "display_name": "base",
   "language": "python",
   "name": "python3"
  },
  "language_info": {
   "codemirror_mode": {
    "name": "ipython",
    "version": 3
   },
   "file_extension": ".py",
   "mimetype": "text/x-python",
   "name": "python",
   "nbconvert_exporter": "python",
   "pygments_lexer": "ipython3",
   "version": "3.11.7"
  }
 },
 "nbformat": 4,
 "nbformat_minor": 2
}
